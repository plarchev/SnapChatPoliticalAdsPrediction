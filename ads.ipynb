{
 "cells": [
  {
   "cell_type": "markdown",
   "metadata": {},
   "source": [
    "# Snapchat Political Ads\n",
    "* **See the main project notebook for instructions to be sure you satisfy the rubric!**\n",
    "* See Project 03 for information on the dataset.\n",
    "* A few example prediction questions to pursue are listed below. However, don't limit yourself to them!\n",
    "    * Predict the reach (number of views) of an ad.\n",
    "    * Predict how much was spent on an ad.\n",
    "    * Predict the target group of an ad. (For example, predict the target gender.)\n",
    "    * Predict the (type of) organization/advertiser behind an ad.\n",
    "\n",
    "Be careful to justify what information you would know at the \"time of prediction\" and train your model using only those features."
   ]
  },
  {
   "cell_type": "markdown",
   "metadata": {},
   "source": [
    "# Summary of Findings\n",
    "\n",
    "\n",
    "### Introduction\n",
    "For this project, we will be looking at the ads dataset from 2019 and 2020, the same data we used for project03. We will be using regression to predict on the number of Impressions, our target variable, that each ad campaign recieves. Using the R-squared value from both models, we will assess their accuracy. We are using R^2 here because it gives us a good indication of how well our model predicted impressions, and that is primarily what we are concerned with.\n",
    "\n",
    "### Baseline Model\n",
    "For the baseline model, we dropped columns, one-hot encoded columns, standardized columns, and manually binarized columns.\n",
    "\n",
    "DROP: ADID, CreativeURL, StartDate, EndDate, CandidateBallotInformation, Electoral Districts(Excluded), OsType, Targetting Connection Type, Targetting Carrier (ISP), CreativeProperites\n",
    "* We dropped these columns because they were either all/mostly NaN values or all unique values that would not provide use for the baseline model. Specifically for StartDate and EndDate, we did not use them because the Pipeline does not take in pd.datetime objects. \n",
    "\n",
    "ONE-HOT: CurrencyCode, OrganizationName, BillingAddress, PayingAdvertiserName, Gender, CountryCode, Segments, Language\n",
    "* We one-hot encoded these columns because there were relatively few number of unique values in each column and we could make sense of NaN values\n",
    "* We also used TruncatedSVD to reduce the dimensions of the one-hot encoded columns due to the fact that some of the one-hot encoded columns may be perfectly correlated; we did not use PCA here because the matrix was too sparse\n",
    "\n",
    "STANDARDIZED: Spend\n",
    "* We standardized spend because it is a quantitative feature that would be utilized better by the ML model if it ranged from 0 to 1. We used StdScaler to do this.\n",
    "\n",
    "BINARY(NaN to 0, non-Nan to 1): Interests, AdvancedDemographics, All Included/Excluded columns (except Electoral Districts(Excluded))\n",
    "* We made all of the Included/Excluded columns (except Electoral Districts(Excluded)) so we could distinguish between ad campaigns that had some sort of filter in these columns and ad campaigns that did not use a filter for these columns. This would help us see if ANY targetting by Region, Elec. Districts, Radius, Metros, Postal Codes, or Location Categories had an effect on Impression count, our target variable.\n",
    "\n",
    "Model Used: Decision Tree Regressor\n",
    "\n",
    "Our model had 22 variables. 1 quantitative, 0 ordinal, and 21 nominal.\n",
    "It had an R-squared value of 0.4139 on average. This is okay, considering the fact that we did not feature engineer anything yet and a lot of data was based on one-hot encoded columns. \n",
    "\n",
    "\n",
    "### Final Model\n",
    "For our final model, we built upon our baseline model by creating 3 feature engineered columns: days_running, startAge, and endAge; we also used did hyperparameter tuning. We also decided to use the DecisionTreeRegressor\n",
    "\n",
    "* For days_running, we used the startDate and endDate and found the number of days the campaign was running. If the endDate was null, we considered the ad to be still running and imputed it with the date in which we downloaded the data as this is a consistently updated dataset.\n",
    "\n",
    "* For startAge and endAge, we took the AgeBracket column and split it into these columns so we could make sense of it and provide our final model with more quantitative features. Also, if the AgeBracket had a value such as '18+' we filled engAge with 75. Through research, we found that 75 is roughly the average life expectancy of any person. We also set the minimum of the startAge column to 10 because we believe no one under the age of 10 is necessarily targetted in Snapchat Ads. So for values such as '17-' or NaN, startAge is 10.\n",
    "\n",
    "* We then normalized our engineered features\n",
    "\n",
    "* We also did hyperparameter tuning for the DecisionTreeRegressor and the TruncatedSVD \n",
    "\n",
    "* We also looked into LogisticRegression and did hyperparameter tuning for that, but in the end DEcisionTreeRegressor gave us a better accuracy, probably due to the fact that DecisionTreeRegressor is pretty good at generalizing.\n",
    "\n",
    "These engineered features are good for our data because they provide more quantitative variables for our model. Also, we weren't able to capture the date fields in our baseline model since the Pipeline did not accept datetime objects. Thus, by having days_running, we believe this will provide useful data for the model to predict on number of Impressions, our target variable. Similarly with AgeBracket, we now can optimaize the data found in that column by splitting it in two and creating a definition for values such as '18+' or '17-'. We chose best parameters by looking at max_depth, min_samples_leaf, and min_samples_split for our DecisionTreeRegressor which had the best respective values of 5, 5, and 3. We also looked at what type of algorithm parameter works best for TruncatedSVD, and it turns out 'arpack' performed best with this set of DecisionTreeRegressor parameters. We accomplished this using GridSearchCV. We did not use other hyperparameters because the computation cost was too high.\n",
    "\n",
    "\n",
    "\n",
    "### Fairness Evaluation\n",
    "To evaluate our method for fairness we look to the age bracket that the ad was targetting, specifically the feature engineered startAge column. Using this column, we create startAgebracket, binning the column into brackets of 5 years. Our metric is the mean of differences of RMSE of each bracket. We are using this metric as our parity measure because it deals with accuracy (how different our predicted vs. actual values are). If we are to see that the mean of differences of RMSEs of each startAgeBracket be significantly different after running a permutation test, then we know our model is bias because it is making wildly wrong predictions for particular startAgebrackets; thus, we can say that our model is not fair in treating startAgebracket.\n",
    "\n",
    "We then perform a permutation test. Our null hypothesis is that there is not a significant difference among the means of differences of RMSE of each bracket. Our alternative hypothesis is that there is a significant difference in this metrics. We use a significance value of 0.01.\n",
    "\n",
    "After running our permutation test, we get a p-value of 0.06. Thus, we reject the null hypothesis and cannot conclude that there is no significant difference among the means of differences of RMSE of each bracket. This leads us to believe that our model is treating each of the values in the startAgebracket fairly."
   ]
  },
  {
   "cell_type": "markdown",
   "metadata": {},
   "source": [
    "### Introduction\n",
    "For this project, we will be looking at the ads dataset from 2019 and 2020, the same data we used for project03. We will be using regression to predict on the number of Impressions, our target variable, that each ad campaign recieves. Using the R-squared value from both models, we will assess their accuracy. We are using R^2 here because it gives us a good indication of how well our model predicted impressions, and that is primarily what we are concerned with."
   ]
  },
  {
   "cell_type": "markdown",
   "metadata": {},
   "source": [
    "# Code"
   ]
  },
  {
   "cell_type": "code",
   "execution_count": 1,
   "metadata": {},
   "outputs": [],
   "source": [
    "import matplotlib.pyplot as plt\n",
    "import numpy as np\n",
    "import os\n",
    "import pandas as pd\n",
    "import seaborn as sns\n",
    "%matplotlib inline\n",
    "%config InlineBackend.figure_format = 'retina'  # Higher resolution figures"
   ]
  },
  {
   "cell_type": "code",
   "execution_count": 2,
   "metadata": {},
   "outputs": [],
   "source": [
    "from sklearn.linear_model import LinearRegression\n",
    "from sklearn.preprocessing import FunctionTransformer\n",
    "from sklearn.preprocessing import OneHotEncoder\n",
    "from sklearn.pipeline import Pipeline\n",
    "from sklearn.compose import ColumnTransformer\n",
    "from sklearn.preprocessing import StandardScaler\n",
    "\n",
    "from sklearn.tree import DecisionTreeRegressor\n",
    "from sklearn.model_selection import train_test_split\n",
    "from sklearn.preprocessing import OrdinalEncoder\n",
    "from sklearn.model_selection import cross_val_score\n",
    "import re\n",
    "from sklearn.decomposition import TruncatedSVD\n",
    "from sklearn.model_selection import GridSearchCV\n"
   ]
  },
  {
   "cell_type": "code",
   "execution_count": 3,
   "metadata": {},
   "outputs": [],
   "source": [
    "sc_2019 = pd.read_csv('PoliticalAds_2019.csv')\n",
    "sc_2020 = pd.read_csv('PoliticalAds_2020.csv')"
   ]
  },
  {
   "cell_type": "code",
   "execution_count": 4,
   "metadata": {},
   "outputs": [],
   "source": [
    "ads = pd.concat([sc_2019, sc_2020], ignore_index = True)"
   ]
  },
  {
   "cell_type": "markdown",
   "metadata": {},
   "source": [
    "## Imputing and cleaning specific columns "
   ]
  },
  {
   "cell_type": "code",
   "execution_count": 7,
   "metadata": {},
   "outputs": [],
   "source": [
    "#Imputing NaN values for differnt columns, so that sklearn does not error when it receives nan values\n",
    "# these values will just be one hot encoded later on anyways\n",
    "ads['Segments'] = ads['Segments'].fillna('unspecified') # to be used in one hot encoding\n",
    "ads['Language'] = ads['Language'].fillna('no lang') # nans mean no language criteria was used according to readme\n",
    "ads['Gender'] = ads['Gender'].fillna('all genders') #nans mean all genders according to readme"
   ]
  },
  {
   "cell_type": "code",
   "execution_count": 8,
   "metadata": {},
   "outputs": [],
   "source": [
    "# We want to have uniformity for the spend so coverting each ad spend to USD.\n",
    "def conversion(x):\n",
    "    if x == 'USD':\n",
    "        return 1\n",
    "    elif x == 'EUR':\n",
    "        return 1.1\n",
    "    elif x == 'GBP':\n",
    "        return 1.24\n",
    "    elif x == 'CAD':\n",
    "        return 0.71\n",
    "    elif x == 'AUD':\n",
    "        return 0.65\n",
    "    elif x == 'SEK':\n",
    "        return 0.1\n",
    "    elif x == 'NOK':\n",
    "        return 0.098"
   ]
  },
  {
   "cell_type": "code",
   "execution_count": 9,
   "metadata": {},
   "outputs": [],
   "source": [
    "ads['Conversion_Ratio'] = ads['Currency Code'].apply(lambda x: conversion(x))\n",
    "ads['Spend'] = ads['Spend'] * ads['Conversion_Ratio']\n",
    "ads = ads.drop(['Conversion_Ratio'], axis=1) # drop columns we don't need anymore"
   ]
  },
  {
   "cell_type": "markdown",
   "metadata": {},
   "source": [
    "## Making certain columns binary (because too many unique values to one hot encode), then pass them through the pipeline"
   ]
  },
  {
   "cell_type": "code",
   "execution_count": 10,
   "metadata": {},
   "outputs": [],
   "source": [
    "def make_binary(x):\n",
    "    '''converts features to binary based off if they are null or not '''\n",
    "    if x != 0:\n",
    "        x = 1\n",
    "    return x"
   ]
  },
  {
   "cell_type": "code",
   "execution_count": 11,
   "metadata": {},
   "outputs": [],
   "source": [
    "# making these columns into binary (1 if not null, 0 if null)\n",
    "binars = ['Regions (Included)', 'Regions (Excluded)',\n",
    "       'Electoral Districts (Included)', \n",
    "       'Radius Targeting (Included)', 'Radius Targeting (Excluded)',\n",
    "       'Metros (Included)', 'Metros (Excluded)', 'Postal Codes (Included)',\n",
    "       'Postal Codes (Excluded)', 'Location Categories (Included)',\n",
    "       'Location Categories (Excluded)', 'Interests', 'AdvancedDemographics']\n",
    "for i in binars:\n",
    "    ads[i] = ads[i].fillna(0).apply(lambda x: make_binary(x))"
   ]
  },
  {
   "cell_type": "markdown",
   "metadata": {},
   "source": [
    "## Feature Engineering"
   ]
  },
  {
   "cell_type": "markdown",
   "metadata": {},
   "source": [
    "## Using StartDate and EndDate to created days_running column"
   ]
  },
  {
   "cell_type": "code",
   "execution_count": 12,
   "metadata": {},
   "outputs": [],
   "source": [
    "def convert_to_days(x):\n",
    "    '''converts datetime object to days, rounds up to the next highest day if a single second of the current day elapses'''\n",
    "    days = x.days\n",
    "    seconds = x.seconds\n",
    "    if seconds > 0:\n",
    "        return int(days + 1)\n",
    "    return days"
   ]
  },
  {
   "cell_type": "code",
   "execution_count": 13,
   "metadata": {},
   "outputs": [
    {
     "name": "stdout",
     "output_type": "stream",
     "text": [
      "there are 37 rows with faulty start and end dates\n",
      "(5411, 34)\n",
      "(5374, 34)\n"
     ]
    }
   ],
   "source": [
    "# The Z in the StartDate and EndDate columns stand for zero timezone, and is offset by 0 from the \n",
    "# coordinated universal time\n",
    "\n",
    "#cleaning StartDate and EndDate, strip the z then convert to datetime\n",
    "ads['StartDate'] = pd.to_datetime(ads['StartDate'].str.strip('Z'), format=\"%Y-%m-%dT%H:%M:%S\")\n",
    "ads['StartDate']  = ads['StartDate'].astype('datetime64[ns]')\n",
    "ads['EndDate'] = pd.to_datetime(ads['EndDate'].str.strip('Z'), format=\"%Y-%m-%dT%H:%M:%S\")\n",
    "ads['EndDate']  = ads['EndDate'].astype('datetime64[ns]')\n",
    "\n",
    "# remove rows that have a startDate that comes before EndDate because that makes no sense and creates\n",
    "# questions of faithfulness about these rows\n",
    "negative_days = ads[ads['StartDate'] > ads['EndDate']]\n",
    "print('there are ' + str(negative_days.shape[0]) + \" rows with faulty start and end dates\")\n",
    "print(ads.shape) # old shape\n",
    "ads = ads.drop(negative_days.index, axis = 0)\n",
    "print(ads.shape) # new shape"
   ]
  },
  {
   "cell_type": "code",
   "execution_count": 14,
   "metadata": {},
   "outputs": [
    {
     "name": "stdout",
     "output_type": "stream",
     "text": [
      "There are currently 287 ads that are for sure running right now\n"
     ]
    }
   ],
   "source": [
    "# add number of days adds is running\n",
    "# leave null values for endDate as is because do not want to assume null means the ad is still running\n",
    "exceed_curr_date = ads[ads['EndDate'] > pd.to_datetime('2020-05-11 00:00:00')]\n",
    "print(\"There are currently \" + str(exceed_curr_date.shape[0]) + \" ads that are for sure running right now\")\n",
    "ads.loc[exceed_curr_date.index, 'EndDate'] = pd.to_datetime('2020-05-11 00:00:00')\n",
    "\n",
    "# compute number of days ad is running, if end date is null, impute the null value with may 9, 2020\n",
    "\n",
    "ads['EndDate'] = ads['EndDate'].fillna(pd.to_datetime('2020-05-11 00:00:00'))\n",
    "\n",
    "# dtype will be int, converted datetime object to days, rounding up to next day to avoid instance where\n",
    "# 0 days may occur \n",
    "ads['days_running'] = (ads['EndDate'] - ads['StartDate'])\n",
    "ads['days_running'] = ads['days_running'].apply(lambda x: convert_to_days(x))"
   ]
  },
  {
   "cell_type": "markdown",
   "metadata": {},
   "source": [
    "## Dealing with Age Bracket - split it into start age and end age (if no end age specified, take average death age of the world which is 75"
   ]
  },
  {
   "cell_type": "code",
   "execution_count": 15,
   "metadata": {},
   "outputs": [],
   "source": [
    "def start_age(x):\n",
    "    start = '^[0-9]{2}' # regex\n",
    "    if len(x) < 5 and x[2] == '-':\n",
    "        return 10\n",
    "    else:\n",
    "        return re.search(start, x).group()"
   ]
  },
  {
   "cell_type": "code",
   "execution_count": 16,
   "metadata": {},
   "outputs": [],
   "source": [
    "def end_age(x):\n",
    "    end = '[0-9]{2}$'\n",
    "    if len(x) < 5:\n",
    "        if x[2] == '+':\n",
    "            return 75 # average death age of the world\n",
    "        elif x[2] == '-':\n",
    "            return x[:2]\n",
    "    else:\n",
    "        return re.search(end, x).group()"
   ]
  },
  {
   "cell_type": "code",
   "execution_count": 55,
   "metadata": {},
   "outputs": [],
   "source": [
    "# creating columns startAge and endAge\n",
    "ads['startAge'] = ads['AgeBracket'].fillna('10-75').apply(lambda x: start_age(x))\n",
    "ads['endAge'] = ads['AgeBracket'].fillna('10-75').apply(lambda x: end_age(x))\n",
    "ads['startAge'] = ads['startAge'].astype(int)\n",
    "ads['startAge'] = ads['startAge'].astype(int)"
   ]
  },
  {
   "cell_type": "markdown",
   "metadata": {},
   "source": [
    "### Baseline Model\n",
    "For the baseline model, we dropped columns, one-hot encoded columns, standardized columns, and manually binarized columns.\n",
    "\n",
    "DROP: ADID, CreativeURL, StartDate, EndDate, CandidateBallotInformation, Electoral Districts(Excluded), OsType, Targetting Connection Type, Targetting Carrier (ISP), CreativeProperites\n",
    "* We dropped these columns because they were either all/mostly NaN values or all unique values that would not provide use for the baseline model. Specifically for StartDate and EndDate, we did not use them because the Pipeline does not take in pd.datetime objects. \n",
    "\n",
    "ONE-HOT: CurrencyCode, OrganizationName, BillingAddress, PayingAdvertiserName, Gender, CountryCode, Segments, Language\n",
    "* We one-hot encoded these columns because there were relatively few number of unique values in each column and we could make sense of NaN values\n",
    "* We also used TruncatedSVD to reduce the dimensions of the one-hot encoded columns due to the fact that some of the one-hot encoded columns may be perfectly correlated; we did not use PCA here because the matrix was too sparse\n",
    "\n",
    "STANDARDIZED: Spend\n",
    "* We standardized spend because it is a quantitative feature that would be utilized better by the ML model if it ranged from 0 to 1. We used StdScaler to do this.\n",
    "\n",
    "BINARY(NaN to 0, non-Nan to 1): Interests, AdvancedDemographics, All Included/Excluded columns (except Electoral Districts(Excluded))\n",
    "* We made all of the Included/Excluded columns (except Electoral Districts(Excluded)) so we could distinguish between ad campaigns that had some sort of filter in these columns and ad campaigns that did not use a filter for these columns. This would help us see if ANY targetting by Region, Elec. Districts, Radius, Metros, Postal Codes, or Location Categories had an effect on Impression count, our target variable.\n",
    "\n",
    "Model Used: Decision Tree Regressor\n",
    "\n",
    "Our model had 22 variables. 1 quantitative, 0 ordinal, and 21 nominal.\n",
    "It had an R-squared value of 0.4139 on average (See final model section for code on computing average R^2 value). This is okay, considering the fact that we did not feature engineer anything yet and a lot of data was based on one-hot encoded columns. \n"
   ]
  },
  {
   "cell_type": "code",
   "execution_count": 56,
   "metadata": {},
   "outputs": [],
   "source": [
    "X = ads.drop(['CreativeUrl','StartDate','EndDate','CandidateBallotInformation','Electoral Districts (Excluded)',\n",
    "            'Targeting Carrier (ISP)', 'ADID','Targeting Connection Type', 'Impressions', 'OsType', 'AgeBracket'], axis = 1)\n",
    "y = ads['Impressions']"
   ]
  },
  {
   "cell_type": "code",
   "execution_count": 57,
   "metadata": {},
   "outputs": [],
   "source": [
    "X_train, X_test, y_train, y_test = train_test_split(X,y)"
   ]
  },
  {
   "cell_type": "code",
   "execution_count": 19,
   "metadata": {},
   "outputs": [],
   "source": [
    "#baseline model - contains no hyperparameter tuning or featured engineers\n",
    "ohe_cols = ['CountryCode',\n",
    "            'Segments',\n",
    "            'Language',\n",
    "            'OrganizationName',\n",
    "            'Currency Code',\n",
    "            'PayingAdvertiserName',\n",
    "            'BillingAddress',\n",
    "            'Gender']\n",
    "# perform one hot encoding\n",
    "ohe_transformer = Pipeline(steps = [('ohe', OneHotEncoder(handle_unknown = 'ignore')),\n",
    "                                     ('tSVD', TruncatedSVD())\n",
    "                                   ])\n",
    "\n",
    "normalize_cols = ['Spend']\n",
    "# perform normalization\n",
    "normalize_transformer = Pipeline(steps = [('scaler', StandardScaler()) # perform normalization for quant. cols\n",
    "                            ])\n",
    "\n",
    "passthrough_cols = ['Interests',\n",
    "                   'AdvancedDemographics',\n",
    "                   'Regions (Excluded)',\n",
    "                   'Regions (Included)',\n",
    "                   'Electoral Districts (Included)',\n",
    "                   'Radius Targeting (Included)',\n",
    "                   'Radius Targeting (Excluded)',\n",
    "                   'Metros (Included)',\n",
    "                   'Metros (Excluded)',\n",
    "                   'Postal Codes (Included)',\n",
    "                   'Postal Codes (Excluded)',\n",
    "                   'Location Categories (Included)',\n",
    "                   'Location Categories (Excluded)']\n",
    "\n",
    "# passthrough these columns into the model\n",
    "passthrough_transfomer = Pipeline(steps=[\n",
    "        (\"func-pass-through\", FunctionTransformer(lambda x: x, validate = False))\n",
    "    ])\n",
    "# putting it all together using columntransformer\n",
    "preproc = ColumnTransformer(transformers=[('ohe', ohe_transformer, ohe_cols),\n",
    "                                          ('passthrough', passthrough_transfomer, passthrough_cols),\n",
    "                                          ('scaler', normalize_transformer, normalize_cols)\n",
    "                                         ])\n",
    "# putting the preprocessing and the model into a single pipeline\n",
    "baseline_pipe = Pipeline([('preprocessing', preproc), ('dtr', DecisionTreeRegressor())])"
   ]
  },
  {
   "cell_type": "markdown",
   "metadata": {},
   "source": [
    "## Improved Model - contains engineered features"
   ]
  },
  {
   "cell_type": "code",
   "execution_count": 20,
   "metadata": {},
   "outputs": [],
   "source": [
    "# improved model with featured engineers- will be used for hyperparameter tuning\n",
    "ohe_cols = ['CountryCode',\n",
    "            'Segments',\n",
    "            'Language',\n",
    "            'OrganizationName',\n",
    "            'Currency Code',\n",
    "            'PayingAdvertiserName',\n",
    "            'BillingAddress',\n",
    "            'Gender']\n",
    "# perform one hot encoding\n",
    "# TruncatedSVD to reduce dimensions\n",
    "ohe_transformer = Pipeline(steps = [('ohe', OneHotEncoder(handle_unknown = 'ignore')), # return sparse matrix\n",
    "                                     ('tSVD', TruncatedSVD()) \n",
    "                                   ])\n",
    "\n",
    "normalize_cols = ['Spend', 'days_running', 'startAge','endAge'] # normalize the engineered quant. features\n",
    "normalize_transformer = Pipeline(steps = [('scaler', StandardScaler()) # perform normalization for quant. cols\n",
    "                            ])\n",
    "\n",
    "passthrough_cols = ['Interests',\n",
    "                   'AdvancedDemographics',\n",
    "                   'Regions (Excluded)',\n",
    "                   'Regions (Included)',\n",
    "                   'Electoral Districts (Included)',\n",
    "                   'Radius Targeting (Included)',\n",
    "                   'Radius Targeting (Excluded)',\n",
    "                   'Metros (Included)',\n",
    "                   'Metros (Excluded)',\n",
    "                   'Postal Codes (Included)',\n",
    "                   'Postal Codes (Excluded)',\n",
    "                   'Location Categories (Included)',\n",
    "                   'Location Categories (Excluded)',\n",
    "                   'startAge',\n",
    "                   'endAge']\n",
    "\n",
    "# to be passed through ML model \n",
    "passthrough_transfomer = Pipeline(steps=[\n",
    "        (\"func-pass-through\", FunctionTransformer(lambda x: x, validate = False))\n",
    "    ])\n",
    "\n",
    "# column transformer for preprocessing\n",
    "preproc = ColumnTransformer(transformers=[('ohe', ohe_transformer, ohe_cols),\n",
    "                                          ('passthrough', passthrough_transfomer, passthrough_cols),\n",
    "                                          ('scaler', normalize_transformer, normalize_cols)\n",
    "                                         ])\n",
    "\n",
    "# putting preprocessing and model into a single pipeline\n",
    "improved_pipe = Pipeline([('preprocessing', preproc), \n",
    "                       ('dtr', DecisionTreeRegressor())])"
   ]
  },
  {
   "cell_type": "markdown",
   "metadata": {},
   "source": [
    "### Final Model\n",
    "For our final model, we built upon our baseline model by creating 3 feature engineered columns: days_running, startAge, and endAge; we also used did hyperparameter tuning. We also decided to use the DecisionTreeRegressor\n",
    "\n",
    "* For days_running, we used the startDate and endDate and found the number of days the campaign was running. If the endDate was null, we considered the ad to be still running and imputed it with the date in which we downloaded the data as this is a consistently updated dataset.\n",
    "\n",
    "* For startAge and endAge, we took the AgeBracket column and split it into these columns so we could make sense of it and provide our final model with more quantitative features. Also, if the AgeBracket had a value such as '18+' we filled engAge with 75. Through research, we found that 75 is roughly the average life expectancy of any person. We also set the minimum of the startAge column to 10 because we believe no one under the age of 10 is necessarily targetted in Snapchat Ads. So for values such as '17-' or NaN, startAge is 10. (See work above in feature engineering section for code on how we derived the engineered features.\n",
    "\n",
    "* We then normalized our engineered features\n",
    "\n",
    "* We also did hyperparameter tuning for the DecisionTreeRegressor and the TruncatedSVD \n",
    "\n",
    "* We also looked into LogisticRegression and did hyperparameter tuning for that, but in the end DEcisionTreeRegressor gave us a better accuracy, probably due to the fact that DecisionTreeRegressor is pretty good at generalization.\n",
    "\n",
    "These engineered features are good for our data because they provide more quantitative variables for our model. Also, we weren't able to capture the date fields in our baseline model since the Pipeline did not accept datetime objects. Thus, by having days_running, we believe this will provide useful data for the model to predict on number of Impressions, our target variable. Similarly with AgeBracket, we now can optimaize the data found in that column by splitting it in two and creating a definition for values such as '18+' or '17-'. We chose best parameters by looking at max_depth, min_samples_leaf, and min_samples_split for our DecisionTreeRegressor which had the best respective values of 5, 5, and 3. We also looked at what type of algorithm parameter works best for TruncatedSVD, and it turns out 'arpack' performed best with this set of DecisionTreeRegressor parameters. We accomplished this using GridSearchCV. We did not use other hyperparameters because the computation cost was too high."
   ]
  },
  {
   "cell_type": "markdown",
   "metadata": {},
   "source": [
    "## Hyperparameter Tuning"
   ]
  },
  {
   "cell_type": "code",
   "execution_count": 22,
   "metadata": {},
   "outputs": [],
   "source": [
    "parameters = {\n",
    "    'dtr__max_depth': [2,3,4,5,7,10,13,15,18,None], # DecisionTreeRegressor parameter\n",
    "    'dtr__min_samples_split':[2,3,5,7,10,15,20], # DecisionTreeRegressor parameter\n",
    "    'dtr__min_samples_leaf':[2,3,5,7,10,15,20], # DecisionTreeRegressor parameter\n",
    "    'preprocessing__ohe__tSVD__algorithm': ['randomized','arpack'] # TruncatedSVD parameter  \n",
    "}"
   ]
  },
  {
   "cell_type": "code",
   "execution_count": 23,
   "metadata": {},
   "outputs": [],
   "source": [
    "# using improved model to compute hyperparameters to be used for final model\n",
    "clf = GridSearchCV(improved_pipe, parameters, cv = 5)"
   ]
  },
  {
   "cell_type": "code",
   "execution_count": 24,
   "metadata": {},
   "outputs": [
    {
     "data": {
      "text/plain": [
       "GridSearchCV(cv=5, error_score='raise-deprecating',\n",
       "             estimator=Pipeline(memory=None,\n",
       "                                steps=[('preprocessing',\n",
       "                                        ColumnTransformer(n_jobs=None,\n",
       "                                                          remainder='drop',\n",
       "                                                          sparse_threshold=0.3,\n",
       "                                                          transformer_weights=None,\n",
       "                                                          transformers=[('ohe',\n",
       "                                                                         Pipeline(memory=None,\n",
       "                                                                                  steps=[('ohe',\n",
       "                                                                                          OneHotEncoder(categorical_features=None,\n",
       "                                                                                                        categories=None,\n",
       "                                                                                                        drop=None,\n",
       "                                                                                                        dtype=<class 'numpy.float64'>,\n",
       "                                                                                                        h...\n",
       "                                                              random_state=None,\n",
       "                                                              splitter='best'))],\n",
       "                                verbose=False),\n",
       "             iid='warn', n_jobs=None,\n",
       "             param_grid={'dtr__max_depth': [2, 3, 4, 5, 7, 10, 13, 15, 18,\n",
       "                                            None],\n",
       "                         'dtr__min_samples_leaf': [2, 3, 5, 7, 10, 15, 20],\n",
       "                         'dtr__min_samples_split': [2, 3, 5, 7, 10, 15, 20],\n",
       "                         'preprocessing__ohe__tSVD__algorithm': ['randomized',\n",
       "                                                                 'arpack']},\n",
       "             pre_dispatch='2*n_jobs', refit=True, return_train_score=False,\n",
       "             scoring=None, verbose=0)"
      ]
     },
     "execution_count": 24,
     "metadata": {},
     "output_type": "execute_result"
    }
   ],
   "source": [
    "clf.fit(X_train, y_train)"
   ]
  },
  {
   "cell_type": "code",
   "execution_count": 25,
   "metadata": {},
   "outputs": [
    {
     "data": {
      "text/plain": [
       "{'dtr__max_depth': 5,\n",
       " 'dtr__min_samples_leaf': 5,\n",
       " 'dtr__min_samples_split': 3,\n",
       " 'preprocessing__ohe__tSVD__algorithm': 'arpack'}"
      ]
     },
     "execution_count": 25,
     "metadata": {},
     "output_type": "execute_result"
    }
   ],
   "source": [
    "# find best parameters\n",
    "best_params = clf.best_params_\n",
    "best_params"
   ]
  },
  {
   "cell_type": "markdown",
   "metadata": {},
   "source": [
    "## Final Model"
   ]
  },
  {
   "cell_type": "code",
   "execution_count": 26,
   "metadata": {},
   "outputs": [],
   "source": [
    "# final model - contains engineered features and hyperparameter tuning\n",
    "ohe_cols = ['CountryCode',\n",
    "            'Segments',\n",
    "            'Language',\n",
    "            'OrganizationName',\n",
    "            'Currency Code',\n",
    "            'PayingAdvertiserName',\n",
    "            'BillingAddress',\n",
    "            'Gender']\n",
    "# perform one hot encoding\n",
    "# TruncatedSVD to reduce dimensions\n",
    "ohe_transformer = Pipeline(steps = [('ohe', OneHotEncoder(handle_unknown = 'ignore')), # return sparse matrix\n",
    "                                     ('tSVD', TruncatedSVD(algorithm = \n",
    "                                                           best_params['preprocessing__ohe__tSVD__algorithm'])) \n",
    "                                   ])\n",
    "\n",
    "normalize_cols = ['Spend', 'days_running', 'startAge','endAge'] # normalize the engineered quant. features\n",
    "normalize_transformer = Pipeline(steps = [('scaler', StandardScaler()) # perform normalization for quant. cols\n",
    "                            ])\n",
    "\n",
    "passthrough_cols = ['Interests',\n",
    "                   'AdvancedDemographics',\n",
    "                   'Regions (Excluded)',\n",
    "                   'Regions (Included)',\n",
    "                   'Electoral Districts (Included)',\n",
    "                   'Radius Targeting (Included)',\n",
    "                   'Radius Targeting (Excluded)',\n",
    "                   'Metros (Included)',\n",
    "                   'Metros (Excluded)',\n",
    "                   'Postal Codes (Included)',\n",
    "                   'Postal Codes (Excluded)',\n",
    "                   'Location Categories (Included)',\n",
    "                   'Location Categories (Excluded)',\n",
    "                   'startAge',\n",
    "                   'endAge']\n",
    "\n",
    "# to be passed through ML model \n",
    "passthrough_transfomer = Pipeline(steps=[\n",
    "        (\"func-pass-through\", FunctionTransformer(lambda x: x, validate = False))\n",
    "    ])\n",
    "\n",
    "# column transformer for preprocessing\n",
    "preproc = ColumnTransformer(transformers=[('ohe', ohe_transformer, ohe_cols),\n",
    "                                          ('passthrough', passthrough_transfomer, passthrough_cols),\n",
    "                                          ('scaler', normalize_transformer, normalize_cols)\n",
    "                                         ])\n",
    "\n",
    "# putting all the preprocessing and model in a single pipeline\n",
    "final_pipe = Pipeline([('preprocessing', preproc), \n",
    "                       ('dtr', DecisionTreeRegressor(max_depth = best_params['dtr__max_depth'],\n",
    "                                                    min_samples_leaf = best_params['dtr__min_samples_leaf'],\n",
    "                                                    min_samples_split = best_params['dtr__min_samples_split']))])"
   ]
  },
  {
   "cell_type": "code",
   "execution_count": 27,
   "metadata": {},
   "outputs": [
    {
     "name": "stdout",
     "output_type": "stream",
     "text": [
      "The average r^2 score for baseline model was: 0.4138509995428252\n",
      "The average r^2 score for final model was: 0.43208828245200026\n"
     ]
    }
   ],
   "source": [
    "# make arrays to hold r^2 values for respective models\n",
    "r2_base = []\n",
    "r2_final = []\n",
    "\n",
    "#find average r^2 for 100 different training and test sets\n",
    "for i in range(100):\n",
    "    X_train, X_test, y_train, y_test = train_test_split(X,y) # use same training and test data\n",
    "    baseline_pipe.fit(X_train, y_train)\n",
    "    final_pipe.fit(X_train, y_train)\n",
    "    r2_base.append(baseline_pipe.score(X_test, y_test)) # calculate r^2 for baseline\n",
    "    r2_final.append(final_pipe.score(X_test, y_test)) # calculate r^2 for final\n",
    "\n",
    "print(\"The average r^2 score for baseline model was: \" + str(np.mean(r2_base)))\n",
    "print(\"The average r^2 score for final model was: \" + str(np.mean(r2_final)))"
   ]
  },
  {
   "cell_type": "markdown",
   "metadata": {},
   "source": [
    "### Fairness Evaluation\n",
    "To evaluate our method for fairness we look to the age bracket that the ad was targetting, specifically the feature engineered startAge column. Using this column, we create startAgebracket, binning the column into brackets of 5 years. Our metric is the mean of differences of RMSE of each bracket. We are using this metric as our parity measure because it deals with accuracy (how different our predicted vs. actual values are). If we are to see that the mean of differences of RMSEs of each startAgeBracket be significantly different after running a permutation test, then we know our model is bias because it is making wildly wrong predictions for particular startAgebrackets; thus, we can say that our model is not fair in treating startAgebracket.\n",
    "\n",
    "We then perform a permutation test. Our null hypothesis is that there is not a significant difference among the means of differences of RMSE of each bracket. Our alternative hypothesis is that there is a significant difference in this metrics. We use a significance value of 0.01.\n",
    "\n",
    "After running our permutation test, we get a p-value of 0.06. Thus, we reject the null hypothesis and cannot conclude that there is no significant difference among the means of differences of RMSE of each bracket. This leads us to believe that our model is treating each of the values in the startAgebracket fairly."
   ]
  },
  {
   "cell_type": "markdown",
   "metadata": {},
   "source": [
    "#### Null Hypothesis: The mean difference of RMSEs for startAgebrackets are all relatively similar\n",
    "#### Alternative: The mean difference of RMSEs for startAgebrackets are not simliar to one another\n",
    "##### **Assume Significance Level of 0.01"
   ]
  },
  {
   "cell_type": "code",
   "execution_count": 58,
   "metadata": {},
   "outputs": [
    {
     "name": "stderr",
     "output_type": "stream",
     "text": [
      "/Users/peter/opt/anaconda3/lib/python3.7/site-packages/ipykernel_launcher.py:2: SettingWithCopyWarning: \n",
      "A value is trying to be set on a copy of a slice from a DataFrame.\n",
      "Try using .loc[row_indexer,col_indexer] = value instead\n",
      "\n",
      "See the caveats in the documentation: http://pandas.pydata.org/pandas-docs/stable/user_guide/indexing.html#returning-a-view-versus-a-copy\n",
      "  \n",
      "/Users/peter/opt/anaconda3/lib/python3.7/site-packages/ipykernel_launcher.py:3: SettingWithCopyWarning: \n",
      "A value is trying to be set on a copy of a slice from a DataFrame.\n",
      "Try using .loc[row_indexer,col_indexer] = value instead\n",
      "\n",
      "See the caveats in the documentation: http://pandas.pydata.org/pandas-docs/stable/user_guide/indexing.html#returning-a-view-versus-a-copy\n",
      "  This is separate from the ipykernel package so we can avoid doing imports until\n"
     ]
    }
   ],
   "source": [
    "# create a dataframe, result, that contains the predicted and actual impressions\n",
    "result = X_test\n",
    "result['imp_val'] = y_test\n",
    "result['predictions'] = clf.predict(X_test)"
   ]
  },
  {
   "cell_type": "code",
   "execution_count": 59,
   "metadata": {},
   "outputs": [
    {
     "name": "stderr",
     "output_type": "stream",
     "text": [
      "/Users/peter/opt/anaconda3/lib/python3.7/site-packages/ipykernel_launcher.py:1: SettingWithCopyWarning: \n",
      "A value is trying to be set on a copy of a slice from a DataFrame.\n",
      "Try using .loc[row_indexer,col_indexer] = value instead\n",
      "\n",
      "See the caveats in the documentation: http://pandas.pydata.org/pandas-docs/stable/user_guide/indexing.html#returning-a-view-versus-a-copy\n",
      "  \"\"\"Entry point for launching an IPython kernel.\n"
     ]
    }
   ],
   "source": [
    "# define a column startAgebracket which bins the startAge to bins 5 years wide\n",
    "result['startAgebracket'] = result['startAge'].apply(lambda x:5*(x//5))"
   ]
  },
  {
   "cell_type": "code",
   "execution_count": 60,
   "metadata": {},
   "outputs": [
    {
     "data": {
      "text/plain": [
       "<matplotlib.axes._subplots.AxesSubplot at 0x1a25ec8310>"
      ]
     },
     "execution_count": 60,
     "metadata": {},
     "output_type": "execute_result"
    },
    {
     "data": {
      "image/png": "[encoded data removed]",
      "text/plain": [
       "<Figure size 432x288 with 1 Axes>"
      ]
     },
     "metadata": {
      "image/png": {
       "height": 265,
       "width": 401
      },
      "needs_background": "light"
     },
     "output_type": "display_data"
    }
   ],
   "source": [
    "# looking at a bar chart of the RMSEs for the differnt startAgebrackets\n",
    "(\n",
    "    result\n",
    "    .groupby('startAgebracket')\n",
    "    .apply(lambda x: np.sqrt(np.square(np.subtract(x.imp_val,x.predictions)).mean()))\n",
    "    .plot(kind='bar')\n",
    ")"
   ]
  },
  {
   "cell_type": "code",
   "execution_count": 64,
   "metadata": {},
   "outputs": [],
   "source": [
    "# actual mean difference of RMSEs among the different startAgebrackets\n",
    "obs = result.groupby('startAgebracket').apply(lambda x: np.sqrt(np.square((x.imp_val - x.predictions)).mean())).diff().iloc[-1]"
   ]
  },
  {
   "cell_type": "code",
   "execution_count": 71,
   "metadata": {},
   "outputs": [],
   "source": [
    "metrs = []\n",
    "for _ in range(100):\n",
    "    # s represents the mean difference of RMSE's among the startAgebrackets, calculate this for each sample\n",
    "    s = (result[['startAgebracket', 'predictions', 'imp_val']]\n",
    "         .assign(age=result.startAgebracket.sample(frac=1.0, replace=False).reset_index(drop=True))\n",
    "         .groupby('age')\n",
    "         .apply(lambda x: np.sqrt(np.square((x.imp_val - x.predictions)).mean()))\n",
    "         .diff()\n",
    "         .mean())\n",
    "         \n",
    "    metrs.append((s))"
   ]
  },
  {
   "cell_type": "code",
   "execution_count": 72,
   "metadata": {},
   "outputs": [
    {
     "name": "stdout",
     "output_type": "stream",
     "text": [
      "0.06\n"
     ]
    }
   ],
   "source": [
    "# p-value\n",
    "print(pd.Series(metrs >= obs).mean())"
   ]
  },
  {
   "cell_type": "code",
   "execution_count": 74,
   "metadata": {},
   "outputs": [
    {
     "data": {
      "image/png": "[encoded data removed]",
      "text/plain": [
       "<Figure size 432x288 with 1 Axes>"
      ]
     },
     "metadata": {
      "image/png": {
       "height": 263,
       "width": 470
      },
      "needs_background": "light"
     },
     "output_type": "display_data"
    }
   ],
   "source": [
    "pd.Series(metrs).plot(kind='hist', title='Permutation Test for mean difference of RMSEs among all startAgeBrackets')\n",
    "plt.scatter(obs, 0, c='r');"
   ]
  },
  {
   "cell_type": "markdown",
   "metadata": {},
   "source": [
    "### Conclusion: Because we acheived a p-value of 0.06, we fail to reject the null hypothesis, and thus are inclined to believe that the model is treating different startAgebrackets relatively the same"
   ]
  },
  {
   "cell_type": "code",
   "execution_count": null,
   "metadata": {},
   "outputs": [],
   "source": []
  },
  {
   "cell_type": "code",
   "execution_count": null,
   "metadata": {},
   "outputs": [],
   "source": []
  },
  {
   "cell_type": "code",
   "execution_count": null,
   "metadata": {},
   "outputs": [],
   "source": []
  }
 ],
 "metadata": {
  "kernelspec": {
   "display_name": "Python 3",
   "language": "python",
   "name": "python3"
  },
  "language_info": {
   "codemirror_mode": {
    "name": "ipython",
    "version": 3
   },
   "file_extension": ".py",
   "mimetype": "text/x-python",
   "name": "python",
   "nbconvert_exporter": "python",
   "pygments_lexer": "ipython3",
   "version": "3.7.4"
  }
 },
 "nbformat": 4,
 "nbformat_minor": 2
}
